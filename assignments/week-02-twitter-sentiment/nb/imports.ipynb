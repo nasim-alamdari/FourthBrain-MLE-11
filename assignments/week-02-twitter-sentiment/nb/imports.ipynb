{
 "cells": [
  {
   "cell_type": "code",
   "execution_count": 1,
   "id": "dd8ca316",
   "metadata": {},
   "outputs": [
    {
     "name": "stderr",
     "output_type": "stream",
     "text": [
      "/opt/homebrew/Caskroom/miniforge/base/envs/mlops/lib/python3.8/site-packages/tqdm/auto.py:22: TqdmWarning: IProgress not found. Please update jupyter and ipywidgets. See https://ipywidgets.readthedocs.io/en/stable/user_install.html\n",
      "  from .autonotebook import tqdm as notebook_tqdm\n",
      "/opt/homebrew/Caskroom/miniforge/base/envs/mlops/lib/python3.8/site-packages/scipy/__init__.py:146: UserWarning: A NumPy version >=1.16.5 and <1.23.0 is required for this version of SciPy (detected version 1.23.4\n",
      "  warnings.warn(f\"A NumPy version >={np_minversion} and <{np_maxversion}\"\n",
      "Downloading: 100%|██████████| 890/890 [00:00<00:00, 142kB/s]\n",
      "Downloading: 100%|██████████| 1.52k/1.52k [00:00<00:00, 507kB/s]\n",
      "Downloading: 100%|██████████| 540M/540M [00:18<00:00, 29.9MB/s] \n",
      "Downloading: 100%|██████████| 295/295 [00:00<00:00, 74.3kB/s]\n",
      "Downloading: 100%|██████████| 843k/843k [00:00<00:00, 2.25MB/s]\n",
      "Downloading: 100%|██████████| 1.08M/1.08M [00:00<00:00, 2.39MB/s]\n",
      "Downloading: 100%|██████████| 17.0/17.0 [00:00<00:00, 3.72kB/s]\n",
      "Downloading: 100%|██████████| 150/150 [00:00<00:00, 46.7kB/s]\n"
     ]
    }
   ],
   "source": [
    "#!pip install transformers torch\n",
    "#!pip install emoji==0.6.0\n",
    "#!conda install -c conda-forge transformers\n",
    "#!conda install -c conda-forge emoji==0.6.0\n",
    "\n",
    "from transformers import pipeline\n",
    "\n",
    "pinstall = pipeline(model=\"finiteautomata/bertweet-base-sentiment-analysis\")"
   ]
  },
  {
   "cell_type": "code",
   "execution_count": null,
   "id": "29012bb3-49cf-4a51-b7b7-8c16acc54cb5",
   "metadata": {},
   "outputs": [],
   "source": []
  },
  {
   "cell_type": "code",
   "execution_count": null,
   "id": "d4219f57-456f-457f-a29a-23551c838822",
   "metadata": {},
   "outputs": [],
   "source": []
  }
 ],
 "metadata": {
  "kernelspec": {
   "display_name": "Python 3",
   "language": "python",
   "name": "python3"
  },
  "language_info": {
   "codemirror_mode": {
    "name": "ipython",
    "version": 3
   },
   "file_extension": ".py",
   "mimetype": "text/x-python",
   "name": "python",
   "nbconvert_exporter": "python",
   "pygments_lexer": "ipython3",
   "version": "3.8.15"
  }
 },
 "nbformat": 4,
 "nbformat_minor": 5
}
