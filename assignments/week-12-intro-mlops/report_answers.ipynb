{
 "cells": [
  {
   "cell_type": "markdown",
   "id": "b9c6aca0-4082-4d6f-a3b5-da0d2fbacdf5",
   "metadata": {},
   "source": [
    "## Public Link for the Deployed FastAPI on EC2:\n",
    "http://54.202.67.219:8000/docs"
   ]
  },
  {
   "cell_type": "markdown",
   "id": "b70f1858-7d94-43a2-8ba3-ebce17887834",
   "metadata": {
    "tags": []
   },
   "source": [
    "#### Finance Data Forecasting with the 3 competitors are: \n",
    "1. ARIMA processes, \n",
    "2. LSTM neural network, \n",
    "3. Facebook Prophet"
   ]
  },
  {
   "cell_type": "markdown",
   "id": "41c9b5f6-2d6e-43e2-bb76-b0db1746778a",
   "metadata": {},
   "source": [
    "### Answer to Questions"
   ]
  },
  {
   "cell_type": "markdown",
   "id": "2e0a3bb8-b0a0-4449-8bbd-6d00e751d7ec",
   "metadata": {
    "tags": []
   },
   "source": [
    "\n",
    "1.a.How does the Prophet Algorithm differ from an LSTM?\n",
    "\n",
    "__Answer__:\n",
    "        \n",
    "        - Prophet is an additive regression model with a piecewise linear or logistic growth curve trend\n",
    "        - Prophet's advantage is that it requires less hyperparameter tuning as it is specifically designed to detect patterns in business time series. \n",
    "        - LSTM prediction is based on a set of last values, we are therefore less prone to variance due to seasonality and already consider the current trend. In contrast to that, the prophet model is doing a good job modeling as an additive system and finding out and displaying seasonalities.\n",
    "    \n",
    "    \n",
    "1.b Why does an LSTM have poor performance against ARIMA and Profit for Time Series?\n",
    "\n",
    "**Answer**:\n",
    "    \n",
    "    - ARIMA stands for Autoregressive Integrated Moving Average \n",
    "    - LSTM works better if we are dealing with huge amount of data and enough training data is available, while ARIMA is better for smaller datasets.\n",
    "\n",
    "2. What is exponential smoothing and why is it used in Time Series Forecasting?\n",
    "\n",
    "**Answer**:\n",
    "   \n",
    "    - Exponential smoothing (ES) is a time series forecasting method for univariate data. Time series methods like the Box-Jenkins ARIMA family of methods develop a model where the prediction is a weighted linear sum of recent past observations or lags\n",
    "\n",
    "3. What is stationarity? What is seasonality? Why Is Stationarity Important in Time Series Forecasting?\n",
    "\n",
    "**Answer**:\n",
    "    \n",
    "    - A stationary time series is one whose properties do not depend on the time at which the series is observed. \n",
    "    - Thus, time series with trends, or with seasonality, are not stationary — the trend and seasonality will affect the value of the time series at different times.\n",
    "    - Stationarity is an important concept in the field of time series analysis with tremendous influence on how the data is perceived and predicted. When forecasting or predicting the future, most time series models assume that each point is independent of one another.\n",
    "    - Using non-stationary time series data in **financial models** produces unreliable and spurious results and leads to poor understanding and forecasting. \n",
    "    \n",
    "\n",
    "4. How is seasonality different from cyclicality? Fill in the blanks: \n",
    "**Seasonality** is predictable, whereas **cyclicality** is not.\n",
    "\n",
    "**Answer**:\n",
    "    \n",
    "    - as seasonal cycles are observed within one calendar year, \n",
    "    - while cyclical effects, such as boosted sales due to low unemployment rates, can span time periods shorter or longer than one calendar year.\n",
    "    - Seasonality is always of a fixed and known period. Hence, seasonal time series are sometimes called periodic time series. \n"
   ]
  },
  {
   "cell_type": "code",
   "execution_count": null,
   "id": "862e437b-0b2c-4b68-835f-1d40a03044ff",
   "metadata": {},
   "outputs": [],
   "source": []
  }
 ],
 "metadata": {
  "kernelspec": {
   "display_name": "Python 3 (ipykernel)",
   "language": "python",
   "name": "python3"
  },
  "language_info": {
   "codemirror_mode": {
    "name": "ipython",
    "version": 3
   },
   "file_extension": ".py",
   "mimetype": "text/x-python",
   "name": "python",
   "nbconvert_exporter": "python",
   "pygments_lexer": "ipython3",
   "version": "3.8.16"
  }
 },
 "nbformat": 4,
 "nbformat_minor": 5
}
