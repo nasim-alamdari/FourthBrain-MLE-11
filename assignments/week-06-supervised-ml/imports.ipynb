{
 "cells": [
  {
   "cell_type": "code",
   "execution_count": 2,
   "metadata": {},
   "outputs": [],
   "source": [
    "import numpy as np\n",
    "import pandas as pd\n",
    "from pandas_profiling import ProfileReport # Generate profile report for pandas DataFrame\n",
    "import matplotlib.pyplot as plt \n",
    "import plotly                              # An interactive JavaScript-based visualization library for Python\n",
    "import sklearn                             # A set of python modules for machine learning and data mining\n",
    "import shap                                # A unified approach to explain the output of any machine learning model.\n",
    "import tpot                                # AutoML: automatically creates and optimizes Machine Learning pipelines using genetic programming.\n",
    "import streamlit as st                     # The fastest way to build data apps in Python\n",
    "\n",
    "# ref to tpot: http://epistasislab.github.io/tpot/\n",
    "# intro to sreamlit: https://towardsdatascience.com/streamlit-101-an-in-depth-introduction-fc8aad9492f2"
   ]
  },
  {
   "cell_type": "code",
   "execution_count": null,
   "metadata": {},
   "outputs": [],
   "source": []
  }
 ],
 "metadata": {
  "kernelspec": {
   "display_name": "Python 3",
   "language": "python",
   "name": "python3"
  },
  "language_info": {
   "codemirror_mode": {
    "name": "ipython",
    "version": 3
   },
   "file_extension": ".py",
   "mimetype": "text/x-python",
   "name": "python",
   "nbconvert_exporter": "python",
   "pygments_lexer": "ipython3",
   "version": "3.8.15"
  },
  "toc": {
   "base_numbering": 1,
   "nav_menu": {},
   "number_sections": true,
   "sideBar": true,
   "skip_h1_title": false,
   "title_cell": "Table of Contents",
   "title_sidebar": "Contents",
   "toc_cell": false,
   "toc_position": {},
   "toc_section_display": true,
   "toc_window_display": false
  },
  "vscode": {
   "interpreter": {
    "hash": "c57794392b841cffd8686d5c4548e4e2ec78521f49300d60954d1380f1b4bd1f"
   }
  }
 },
 "nbformat": 4,
 "nbformat_minor": 4
}
